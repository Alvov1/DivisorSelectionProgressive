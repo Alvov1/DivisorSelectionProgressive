!apt-get --purge remove cuda nvidia* libnvidia-*
!dpkg -l | grep cuda- | awk '{print $2}' | xargs -n1 dpkg --purge
!apt-get remove cuda-*
!apt autoremove
!apt-get update
!echo -e "---------------------------- Older NVCC removed ---------------------------\n\n\n\n"

!wget https://developer.download.nvidia.com/compute/cuda/repos/ubuntu2204/x86_64/cuda-ubuntu2204.pin
!sudo mv cuda-ubuntu2204.pin /etc/apt/preferences.d/cuda-repository-pin-600
!wget https://developer.download.nvidia.com/compute/cuda/12.3.0/local_installers/cuda-repo-ubuntu2204-12-3-local_12.3.0-545.23.06-1_amd64.deb
!sudo dpkg -i cuda-repo-ubuntu2204-12-3-local_12.3.0-545.23.06-1_amd64.deb
!sudo cp /var/cuda-repo-ubuntu2204-12-3-local/cuda-*-keyring.gpg /usr/share/keyrings/
!sudo apt-get update
!sudo apt-get -y install cuda-toolkit-12-3
!apt install libprimesieve-dev
!apt-get install -y nvidia-kernel-open-545
!tapt-get install -y cuda-drivers-545
!echo -e "--------------------------- Newer NVCC installed --------------------------\n\n\n\n"


!git clone https://github.com/Alvov1/DivisorSelectionProgressive.git

!cd DivisorSelectionProgressive && git pull
!mkdir -p DivisorSelectionProgressive/prime-gen/build && cd DivisorSelectionProgressive/prime-gen/build && cmake .. && make
!mkdir -p DivisorSelectionProgressive/build && cd DivisorSelectionProgressive/build && cmake .. && make
!echo -e "------------------------- Preparations  completed -------------------------\n\n\n\n"

!./DivisorSelectionProgressive/prime-gen/build/PrimeGenerator 67108864 primes.txt
!mv primes.txt DivisorSelectionProgressive/build/primes.txt
!echo -e "-------------------------- Prime table generated --------------------------\n\n\n\n"

!cd DivisorSelectionProgressive/build && ./DivisorSelectionProgressive factorize 76040070550672842507766081630758724900431552052363057578460128640262082103603 primes.txt
!echo -e "------------------------ Factorization completed --------------------------\n\n\n\n"